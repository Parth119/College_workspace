{
 "cells": [
  {
   "cell_type": "code",
   "execution_count": 1,
   "metadata": {},
   "outputs": [
    {
     "name": "stdout",
     "output_type": "stream",
     "text": [
      "   good  long  movie  scary  slow  spooky\n",
      "0     0     1      1      1     0       0\n",
      "1     0     0      1      1     1       0\n",
      "2     1     0      1      0     0       1\n"
     ]
    }
   ],
   "source": [
    "import pandas as pd\n",
    "from sklearn.feature_extraction.text import CountVectorizer, TfidfVectorizer\n",
    "sentence_1=\"This movie is very scary and long\"\n",
    "sentence_2=\"This movie is not scary and is slow\"\n",
    "sentence_3=\"This movie is spooky and good\"\n",
    "CountVec = CountVectorizer(ngram_range=(1,1),stop_words='english')\n",
    "Count_data = CountVec.fit_transform([sentence_1,sentence_2,sentence_3])\n",
    "cv_dataframe=pd.DataFrame(Count_data.toarray(),columns=CountVec.get_feature_names())\n",
    "print(cv_dataframe)"
   ]
  },
  {
   "cell_type": "code",
   "execution_count": 2,
   "metadata": {},
   "outputs": [
    {
     "name": "stdout",
     "output_type": "stream",
     "text": [
      "Sentence 1 :- ['the', 'movie', 'is', 'very', 'scary', 'and', 'long']\n",
      "Sentence 2 :- ['the', 'movie', 'is', 'not', 'scary', 'and', 'is', 'long']\n",
      "Sentence 3 :- ['the', 'movie', 'is', 'spooky', 'and', 'good']\n"
     ]
    },
    {
     "data": {
      "text/html": [
       "<div>\n",
       "<style scoped>\n",
       "    .dataframe tbody tr th:only-of-type {\n",
       "        vertical-align: middle;\n",
       "    }\n",
       "\n",
       "    .dataframe tbody tr th {\n",
       "        vertical-align: top;\n",
       "    }\n",
       "\n",
       "    .dataframe thead th {\n",
       "        text-align: right;\n",
       "    }\n",
       "</style>\n",
       "<table border=\"1\" class=\"dataframe\">\n",
       "  <thead>\n",
       "    <tr style=\"text-align: right;\">\n",
       "      <th></th>\n",
       "      <th>and</th>\n",
       "      <th>good</th>\n",
       "      <th>is</th>\n",
       "      <th>long</th>\n",
       "      <th>movie</th>\n",
       "      <th>not</th>\n",
       "      <th>scary</th>\n",
       "      <th>spooky</th>\n",
       "      <th>the</th>\n",
       "      <th>very</th>\n",
       "    </tr>\n",
       "  </thead>\n",
       "  <tbody>\n",
       "    <tr>\n",
       "      <th>0</th>\n",
       "      <td>0.313373</td>\n",
       "      <td>0.000000</td>\n",
       "      <td>0.313373</td>\n",
       "      <td>0.403525</td>\n",
       "      <td>0.313373</td>\n",
       "      <td>0.000000</td>\n",
       "      <td>0.403525</td>\n",
       "      <td>0.000000</td>\n",
       "      <td>0.313373</td>\n",
       "      <td>0.530587</td>\n",
       "    </tr>\n",
       "    <tr>\n",
       "      <th>1</th>\n",
       "      <td>0.275418</td>\n",
       "      <td>0.000000</td>\n",
       "      <td>0.550837</td>\n",
       "      <td>0.354651</td>\n",
       "      <td>0.275418</td>\n",
       "      <td>0.466324</td>\n",
       "      <td>0.354651</td>\n",
       "      <td>0.000000</td>\n",
       "      <td>0.275418</td>\n",
       "      <td>0.000000</td>\n",
       "    </tr>\n",
       "    <tr>\n",
       "      <th>2</th>\n",
       "      <td>0.320528</td>\n",
       "      <td>0.542701</td>\n",
       "      <td>0.320528</td>\n",
       "      <td>0.000000</td>\n",
       "      <td>0.320528</td>\n",
       "      <td>0.000000</td>\n",
       "      <td>0.000000</td>\n",
       "      <td>0.542701</td>\n",
       "      <td>0.320528</td>\n",
       "      <td>0.000000</td>\n",
       "    </tr>\n",
       "  </tbody>\n",
       "</table>\n",
       "</div>"
      ],
      "text/plain": [
       "        and      good        is      long     movie       not     scary  \\\n",
       "0  0.313373  0.000000  0.313373  0.403525  0.313373  0.000000  0.403525   \n",
       "1  0.275418  0.000000  0.550837  0.354651  0.275418  0.466324  0.354651   \n",
       "2  0.320528  0.542701  0.320528  0.000000  0.320528  0.000000  0.000000   \n",
       "\n",
       "     spooky       the      very  \n",
       "0  0.000000  0.313373  0.530587  \n",
       "1  0.000000  0.275418  0.000000  \n",
       "2  0.542701  0.320528  0.000000  "
      ]
     },
     "execution_count": 2,
     "metadata": {},
     "output_type": "execute_result"
    }
   ],
   "source": [
    "from sklearn.feature_extraction.text import TfidfVectorizer \n",
    "import pandas as pd\n",
    "Review1=\"The movie is very scary and long\" \n",
    "Review2=\"The movie is not scary and is long\" \n",
    "Review3=\"The movie is spooky and good\" \n",
    "Data = [Review1 ,Review2 ,Review3]\n",
    "vectorizer = TfidfVectorizer()\n",
    "Vect = vectorizer.fit_transform(Data)\n",
    "analyze = vectorizer.build_analyzer()\n",
    "print('Sentence 1 :-',analyze(Review1))\n",
    "print('Sentence 2 :-',analyze(Review2))\n",
    "print('Sentence 3 :-',analyze(Review3))\n",
    "vectorizer = TfidfVectorizer()\n",
    "vectors = vectorizer.fit_transform(Data)\n",
    "feature_names = vectorizer.get_feature_names()\n",
    "dense = vectors.todense()\n",
    "denselist = dense.tolist()\n",
    "df = pd.DataFrame(denselist, columns=feature_names)\n",
    "df\n"
   ]
  },
  {
   "cell_type": "code",
   "execution_count": null,
   "metadata": {},
   "outputs": [],
   "source": []
  }
 ],
 "metadata": {
  "kernelspec": {
   "display_name": "Python 3",
   "language": "python",
   "name": "python3"
  },
  "language_info": {
   "codemirror_mode": {
    "name": "ipython",
    "version": 3
   },
   "file_extension": ".py",
   "mimetype": "text/x-python",
   "name": "python",
   "nbconvert_exporter": "python",
   "pygments_lexer": "ipython3",
   "version": "3.7.6"
  }
 },
 "nbformat": 4,
 "nbformat_minor": 4
}
